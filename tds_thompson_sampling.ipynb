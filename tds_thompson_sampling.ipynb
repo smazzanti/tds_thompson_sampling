{
 "cells": [
  {
   "cell_type": "markdown",
   "metadata": {},
   "source": [
    "# Import"
   ]
  },
  {
   "cell_type": "code",
   "execution_count": 1,
   "metadata": {},
   "outputs": [],
   "source": [
    "from scipy import stats\n",
    "import numpy as np\n",
    "import pandas as pd\n",
    "import matplotlib.pyplot as plt\n",
    "from tqdm import tqdm"
   ]
  },
  {
   "cell_type": "markdown",
   "metadata": {},
   "source": [
    "# Utils"
   ]
  },
  {
   "cell_type": "code",
   "execution_count": 2,
   "metadata": {},
   "outputs": [],
   "source": [
    "def draw_from_beta(clicks, misses):\n",
    "  \"\"\"Draw random number from Beta.\"\"\"\n",
    "  clicks, misses = (clicks, misses) if min(clicks, misses) > 0 else (clicks+1, misses+1)\n",
    "  return np.random.beta(a=clicks, b=misses)\n",
    "\n",
    "def beta_mean(clicks, misses):\n",
    "  \"\"\"Expected value of Beta.\"\"\"\n",
    "  clicks, misses = (clicks, misses) if min(clicks, misses) > 0 else (clicks+1, misses+1)\n",
    "  return stats.beta(a=clicks, b=misses).mean() #, stats.beta(a=clicks, b=misses).var()\n",
    "\n",
    "def beta_std(clicks, misses):\n",
    "  \"\"\"Standard deviation of Beta.\"\"\"\n",
    "  clicks, misses = (clicks, misses) if min(clicks, misses) > 0 else (clicks+1, misses+1)\n",
    "  return stats.beta(a=clicks, b=misses).std()"
   ]
  },
  {
   "cell_type": "markdown",
   "metadata": {},
   "source": [
    "# Examples"
   ]
  },
  {
   "cell_type": "code",
   "execution_count": 3,
   "metadata": {},
   "outputs": [
    {
     "data": {
      "text/html": [
       "<div>\n",
       "<style scoped>\n",
       "    .dataframe tbody tr th:only-of-type {\n",
       "        vertical-align: middle;\n",
       "    }\n",
       "\n",
       "    .dataframe tbody tr th {\n",
       "        vertical-align: top;\n",
       "    }\n",
       "\n",
       "    .dataframe thead th {\n",
       "        text-align: right;\n",
       "    }\n",
       "</style>\n",
       "<table border=\"1\" class=\"dataframe\">\n",
       "  <thead>\n",
       "    <tr style=\"text-align: right;\">\n",
       "      <th></th>\n",
       "      <th>users</th>\n",
       "      <th>clicks</th>\n",
       "      <th>click rate</th>\n",
       "    </tr>\n",
       "  </thead>\n",
       "  <tbody>\n",
       "    <tr>\n",
       "      <th>red page</th>\n",
       "      <td>10</td>\n",
       "      <td>1</td>\n",
       "      <td>.10</td>\n",
       "    </tr>\n",
       "    <tr>\n",
       "      <th>blue page</th>\n",
       "      <td>10</td>\n",
       "      <td>2</td>\n",
       "      <td>.20</td>\n",
       "    </tr>\n",
       "  </tbody>\n",
       "</table>\n",
       "</div>"
      ],
      "text/plain": [
       "           users  clicks click rate\n",
       "red page      10       1        .10\n",
       "blue page     10       2        .20"
      ]
     },
     "metadata": {},
     "output_type": "display_data"
    },
    {
     "data": {
      "image/png": "[encoded data removed]",
      "text/plain": [
       "<Figure size 432x288 with 1 Axes>"
      ]
     },
     "metadata": {
      "needs_background": "light"
     },
     "output_type": "display_data"
    }
   ],
   "source": [
    "counts_after_20 = pd.DataFrame([[10, 1, \".10\"], [10, 2, \".20\"]], index=[\"red page\", \"blue page\"], columns=[\"users\", \"clicks\", \"click rate\"])\n",
    "\n",
    "display(counts_after_20)\n",
    "\n",
    "x = np.linspace(0,1,1000)\n",
    "\n",
    "fig, ax = plt.subplots()\n",
    "\n",
    "for variant in counts_after_20.index:\n",
    "    clicks, misses = counts_after_20.loc[variant, \"clicks\"], counts_after_20.loc[variant, \"users\"] - counts_after_20.loc[variant, \"clicks\"]\n",
    "    n = clicks + misses\n",
    "    pdf = stats.beta(a=clicks, b=misses).pdf(x=x)\n",
    "    mean = stats.beta(a=clicks, b=misses).mean()\n",
    "    color = variant.split(\" \")[0]\n",
    "    ax.plot(x, pdf, lw=3, label=f\"{variant} ({clicks} click{'s' if clicks > 1 else ''}, {misses} misses)\", color=color)\n",
    "    ax.vlines(x=mean, ymin=0, ymax=stats.beta(a=clicks, b=misses).pdf(mean), ls=\"--\", color=color)\n",
    "    ax.set_yticks([])\n",
    "\n",
    "ax.tick_params(axis='both', which='major', labelsize=13)\n",
    "ax.legend(fontsize=13)\n",
    "\n",
    "fig.savefig(\"red_vs_blue_20_users.png\", bbox_inches=\"tight\", dpi=200)"
   ]
  },
  {
   "cell_type": "code",
   "execution_count": 4,
   "metadata": {},
   "outputs": [
    {
     "name": "stdout",
     "output_type": "stream",
     "text": [
      "how often a number drawn from a is > than a number drawn from b?\n",
      "0.236\n"
     ]
    }
   ],
   "source": [
    "print(\"how often a number drawn from a is > than a number drawn from b?\")\n",
    "print((np.random.beta(a=1, b=9, size=100_000) - (np.random.beta(a=2, b=8, size=100_000)) > 0).mean())"
   ]
  },
  {
   "cell_type": "code",
   "execution_count": 5,
   "metadata": {},
   "outputs": [
    {
     "data": {
      "text/html": [
       "<div>\n",
       "<style scoped>\n",
       "    .dataframe tbody tr th:only-of-type {\n",
       "        vertical-align: middle;\n",
       "    }\n",
       "\n",
       "    .dataframe tbody tr th {\n",
       "        vertical-align: top;\n",
       "    }\n",
       "\n",
       "    .dataframe thead th {\n",
       "        text-align: right;\n",
       "    }\n",
       "</style>\n",
       "<table border=\"1\" class=\"dataframe\">\n",
       "  <thead>\n",
       "    <tr style=\"text-align: right;\">\n",
       "      <th></th>\n",
       "      <th>users</th>\n",
       "      <th>clicks</th>\n",
       "      <th>click rate</th>\n",
       "    </tr>\n",
       "  </thead>\n",
       "  <tbody>\n",
       "    <tr>\n",
       "      <th>red page</th>\n",
       "      <td>5000</td>\n",
       "      <td>550</td>\n",
       "      <td>0.11</td>\n",
       "    </tr>\n",
       "    <tr>\n",
       "      <th>blue page</th>\n",
       "      <td>5000</td>\n",
       "      <td>900</td>\n",
       "      <td>0.18</td>\n",
       "    </tr>\n",
       "  </tbody>\n",
       "</table>\n",
       "</div>"
      ],
      "text/plain": [
       "           users  clicks  click rate\n",
       "red page    5000     550        0.11\n",
       "blue page   5000     900        0.18"
      ]
     },
     "metadata": {},
     "output_type": "display_data"
    },
    {
     "data": {
      "image/png": "[encoded data removed]",
      "text/plain": [
       "<Figure size 432x288 with 1 Axes>"
      ]
     },
     "metadata": {
      "needs_background": "light"
     },
     "output_type": "display_data"
    }
   ],
   "source": [
    "counts_after_1000 = pd.DataFrame([[5_000, int(5_000 * .11), .11], [5_000, int(5_000 * .18), .18]], index=[\"red page\", \"blue page\"], columns=[\"users\", \"clicks\", \"click rate\"])\n",
    "\n",
    "display(counts_after_1000)\n",
    "\n",
    "x = np.linspace(0,1,1000)\n",
    "\n",
    "fig, ax = plt.subplots()\n",
    "\n",
    "for variant in counts_after_1000.index:\n",
    "    clicks, misses = counts_after_1000.loc[variant, \"clicks\"], counts_after_1000.loc[variant, \"users\"] - counts_after_1000.loc[variant, \"clicks\"]\n",
    "    n = clicks + misses\n",
    "    pdf = stats.beta(a=clicks, b=misses).pdf(x=x)\n",
    "    mean = stats.beta(a=clicks, b=misses).mean()\n",
    "    color = variant.split(\" \")[0]\n",
    "    ax.plot(x, pdf, lw=3, label=f\"{variant} ({clicks} click{'s' if clicks > 1 else ''}, {misses} misses)\", color=color)\n",
    "    ax.vlines(x=mean, ymin=0, ymax=stats.beta(a=clicks, b=misses).pdf(mean), ls=\"--\", color=color)\n",
    "    ax.set_yticks([])\n",
    "\n",
    "ax.tick_params(axis='both', which='major', labelsize=13)\n",
    "ax.legend(bbox_to_anchor=(.3, 1), fontsize=13)\n",
    "\n",
    "fig.savefig(\"red_vs_blue_10000_users.png\", bbox_inches=\"tight\", dpi=200)"
   ]
  },
  {
   "cell_type": "code",
   "execution_count": 6,
   "metadata": {},
   "outputs": [
    {
     "name": "stdout",
     "output_type": "stream",
     "text": [
      "how often a number drawn from a is > than a number drawn from b?\n",
      "0.0\n"
     ]
    }
   ],
   "source": [
    "print(\"how often a number drawn from a is > than a number drawn from b?\")\n",
    "print((np.random.beta(a=550, b=4450, size=100_000) - (np.random.beta(a=900, b=4100, size=100_000)) > 0).mean())"
   ]
  },
  {
   "cell_type": "markdown",
   "metadata": {},
   "source": [
    "# Beta distribution depending on the number of impressions"
   ]
  },
  {
   "cell_type": "code",
   "execution_count": 7,
   "metadata": {},
   "outputs": [
    {
     "data": {
      "image/png": "[encoded data removed]",
      "text/plain": [
       "<Figure size 432x288 with 1 Axes>"
      ]
     },
     "metadata": {
      "needs_background": "light"
     },
     "output_type": "display_data"
    }
   ],
   "source": [
    "params = {\n",
    "    0: [1, 4],\n",
    "    1: [2, 8],\n",
    "    2: [4, 16],\n",
    "    3: [10, 40],\n",
    "    4: [20, 80]\n",
    "}\n",
    "\n",
    "x = np.linspace(0,1,1000)\n",
    "\n",
    "fig, ax = plt.subplots()\n",
    "\n",
    "for i in sorted(params.keys()):\n",
    "    clicks, misses = params[i]\n",
    "    n = clicks + misses\n",
    "    pdf = stats.beta(a=clicks, b=misses).pdf(x=x)\n",
    "    ax.plot(x, pdf, lw=3, label=f\"n={n} ({clicks} click{'s' if clicks > 1 else ''}, {misses} misses)\")\n",
    "    ax.set_yticks([])\n",
    "\n",
    "ax.tick_params(axis='both', which='major', labelsize=13)\n",
    "ax.legend(bbox_to_anchor=(.4, 1), fontsize=13)\n",
    "\n",
    "fig.savefig(\"beta_by_n.png\", bbox_inches=\"tight\", dpi=200)"
   ]
  },
  {
   "cell_type": "markdown",
   "metadata": {},
   "source": [
    "# Beta vs Normal"
   ]
  },
  {
   "cell_type": "code",
   "execution_count": 8,
   "metadata": {},
   "outputs": [
    {
     "data": {
      "image/png": "[encoded data removed]",
      "text/plain": [
       "<Figure size 468x360 with 4 Axes>"
      ]
     },
     "metadata": {
      "needs_background": "light"
     },
     "output_type": "display_data"
    }
   ],
   "source": [
    "params = {\n",
    "    0: [1, 4],\n",
    "    1: [2, 8],\n",
    "    2: [4, 16],\n",
    "    3: [10, 40]\n",
    "}\n",
    "\n",
    "x_norm = np.linspace(-.2,1,1000)\n",
    "x_beta = x[x > 0]\n",
    "\n",
    "fig, ax = plt.subplots(2, 2, figsize=(6.5,5), sharex=True)\n",
    "plt.subplots_adjust(hspace=.25, wspace=.1)\n",
    "\n",
    "for i in sorted(params.keys()):\n",
    "    clicks, misses = params[i]\n",
    "    \n",
    "    n = clicks + misses\n",
    "    click_rate = clicks / n\n",
    "\n",
    "    pdf_beta = stats.beta(a=clicks, b=misses).pdf(x=x_beta)\n",
    "    pdf_norm = stats.norm(loc=click_rate, scale=np.sqrt(click_rate*(1-click_rate)/n)).pdf(x=x_norm)\n",
    "\n",
    "    ax[divmod(i, 2)].set_title(f\"n = {n}\", fontsize=13)\n",
    "    ax[divmod(i, 2)].plot(x_beta, pdf_beta, lw=3, label=\"beta\")\n",
    "    ax[divmod(i, 2)].plot(x_norm, pdf_norm, lw=3, ls=\"--\", label=\"normal\")\n",
    "    ax[divmod(i, 2)].set_yticks([])\n",
    "    ax[divmod(i, 2)].tick_params(axis='both', which='major', labelsize=13)\n",
    "    \n",
    "ax[1,1].legend(loc=\"center left\", bbox_to_anchor=(1, 1.1), fontsize=13)\n",
    "\n",
    "fig.savefig(\"beta_vs_normal.png\", bbox_inches=\"tight\", dpi=200)"
   ]
  },
  {
   "cell_type": "markdown",
   "metadata": {},
   "source": [
    "# Experiment"
   ]
  },
  {
   "cell_type": "code",
   "execution_count": 9,
   "metadata": {},
   "outputs": [],
   "source": [
    "ground_truth = pd.Series({\n",
    "  \"grey\": .09, \n",
    "  \"red\": .11, \n",
    "  \"green\": .16, \n",
    "  \"blue\": .18})\n",
    "\n",
    "n_sample = 1_000"
   ]
  },
  {
   "cell_type": "code",
   "execution_count": 10,
   "metadata": {},
   "outputs": [
    {
     "name": "stderr",
     "output_type": "stream",
     "text": [
      "100%|████████████████████████████████████████████████████████████████████████████| 1000/1000 [00:00<00:00, 1240.61it/s]"
     ]
    },
    {
     "name": "stdout",
     "output_type": "stream",
     "text": [
      "Wall time: 815 ms\n"
     ]
    },
    {
     "name": "stderr",
     "output_type": "stream",
     "text": [
      "\n"
     ]
    }
   ],
   "source": [
    "%%time\n",
    "\n",
    "variants = [items[0] for items in sorted(ground_truth.items(), key=lambda item: item[1])]\n",
    "counts = pd.DataFrame(data=0, index=ground_truth.index, columns=[\"clicks\", \"misses\"])\n",
    "counts_hist = []\n",
    "random_numbers_hist = []\n",
    "selected_hist = []\n",
    "outcome_hist = []\n",
    "\n",
    "for i in tqdm(range(n_sample)):\n",
    "  \n",
    "  random_numbers = counts.apply(lambda row: \n",
    "    draw_from_beta(\n",
    "      clicks=row[\"clicks\"], \n",
    "      misses=row[\"misses\"]), axis=1)\n",
    "  \n",
    "  selected = random_numbers.idxmax()\n",
    "  \n",
    "  outcome = np.random.choice(\n",
    "    a=[\"clicks\", \"misses\"], \n",
    "    p=[ground_truth[selected], 1-ground_truth[selected]])\n",
    "  \n",
    "  counts_hist.append(counts.copy())\n",
    "  random_numbers_hist.append(random_numbers)\n",
    "  selected_hist.append(selected)\n",
    "  outcome_hist.append(outcome)\n",
    "\n",
    "  counts.loc[selected, outcome] += 1"
   ]
  },
  {
   "cell_type": "code",
   "execution_count": 11,
   "metadata": {},
   "outputs": [
    {
     "data": {
      "text/html": [
       "<div>\n",
       "<style scoped>\n",
       "    .dataframe tbody tr th:only-of-type {\n",
       "        vertical-align: middle;\n",
       "    }\n",
       "\n",
       "    .dataframe tbody tr th {\n",
       "        vertical-align: top;\n",
       "    }\n",
       "\n",
       "    .dataframe thead th {\n",
       "        text-align: right;\n",
       "    }\n",
       "</style>\n",
       "<table border=\"1\" class=\"dataframe\">\n",
       "  <thead>\n",
       "    <tr style=\"text-align: right;\">\n",
       "      <th></th>\n",
       "      <th>clicks</th>\n",
       "      <th>misses</th>\n",
       "    </tr>\n",
       "  </thead>\n",
       "  <tbody>\n",
       "    <tr>\n",
       "      <th>grey</th>\n",
       "      <td>0</td>\n",
       "      <td>0</td>\n",
       "    </tr>\n",
       "    <tr>\n",
       "      <th>red</th>\n",
       "      <td>0</td>\n",
       "      <td>0</td>\n",
       "    </tr>\n",
       "    <tr>\n",
       "      <th>green</th>\n",
       "      <td>0</td>\n",
       "      <td>0</td>\n",
       "    </tr>\n",
       "    <tr>\n",
       "      <th>blue</th>\n",
       "      <td>0</td>\n",
       "      <td>0</td>\n",
       "    </tr>\n",
       "  </tbody>\n",
       "</table>\n",
       "</div>"
      ],
      "text/plain": [
       "       clicks  misses\n",
       "grey        0       0\n",
       "red         0       0\n",
       "green       0       0\n",
       "blue        0       0"
      ]
     },
     "metadata": {},
     "output_type": "display_data"
    },
    {
     "data": {
      "text/html": [
       "<div>\n",
       "<style scoped>\n",
       "    .dataframe tbody tr th:only-of-type {\n",
       "        vertical-align: middle;\n",
       "    }\n",
       "\n",
       "    .dataframe tbody tr th {\n",
       "        vertical-align: top;\n",
       "    }\n",
       "\n",
       "    .dataframe thead th {\n",
       "        text-align: right;\n",
       "    }\n",
       "</style>\n",
       "<table border=\"1\" class=\"dataframe\">\n",
       "  <thead>\n",
       "    <tr style=\"text-align: right;\">\n",
       "      <th></th>\n",
       "      <th>draw</th>\n",
       "    </tr>\n",
       "  </thead>\n",
       "  <tbody>\n",
       "    <tr>\n",
       "      <th>grey</th>\n",
       "      <td>0.043875</td>\n",
       "    </tr>\n",
       "    <tr>\n",
       "      <th>red</th>\n",
       "      <td>0.618462</td>\n",
       "    </tr>\n",
       "    <tr>\n",
       "      <th>green</th>\n",
       "      <td>0.688098</td>\n",
       "    </tr>\n",
       "    <tr>\n",
       "      <th>blue</th>\n",
       "      <td>0.750732</td>\n",
       "    </tr>\n",
       "  </tbody>\n",
       "</table>\n",
       "</div>"
      ],
      "text/plain": [
       "           draw\n",
       "grey   0.043875\n",
       "red    0.618462\n",
       "green  0.688098\n",
       "blue   0.750732"
      ]
     },
     "metadata": {},
     "output_type": "display_data"
    },
    {
     "name": "stderr",
     "output_type": "stream",
     "text": [
      "No handles with labels found to put in legend.\n",
      "No handles with labels found to put in legend.\n",
      "No handles with labels found to put in legend.\n",
      "No handles with labels found to put in legend.\n"
     ]
    },
    {
     "data": {
      "text/html": [
       "<div>\n",
       "<style scoped>\n",
       "    .dataframe tbody tr th:only-of-type {\n",
       "        vertical-align: middle;\n",
       "    }\n",
       "\n",
       "    .dataframe tbody tr th {\n",
       "        vertical-align: top;\n",
       "    }\n",
       "\n",
       "    .dataframe thead th {\n",
       "        text-align: right;\n",
       "    }\n",
       "</style>\n",
       "<table border=\"1\" class=\"dataframe\">\n",
       "  <thead>\n",
       "    <tr style=\"text-align: right;\">\n",
       "      <th></th>\n",
       "      <th>clicks</th>\n",
       "      <th>misses</th>\n",
       "    </tr>\n",
       "  </thead>\n",
       "  <tbody>\n",
       "    <tr>\n",
       "      <th>grey</th>\n",
       "      <td>0</td>\n",
       "      <td>0</td>\n",
       "    </tr>\n",
       "    <tr>\n",
       "      <th>red</th>\n",
       "      <td>0</td>\n",
       "      <td>0</td>\n",
       "    </tr>\n",
       "    <tr>\n",
       "      <th>green</th>\n",
       "      <td>0</td>\n",
       "      <td>0</td>\n",
       "    </tr>\n",
       "    <tr>\n",
       "      <th>blue</th>\n",
       "      <td>0</td>\n",
       "      <td>1</td>\n",
       "    </tr>\n",
       "  </tbody>\n",
       "</table>\n",
       "</div>"
      ],
      "text/plain": [
       "       clicks  misses\n",
       "grey        0       0\n",
       "red         0       0\n",
       "green       0       0\n",
       "blue        0       1"
      ]
     },
     "metadata": {},
     "output_type": "display_data"
    },
    {
     "data": {
      "text/html": [
       "<div>\n",
       "<style scoped>\n",
       "    .dataframe tbody tr th:only-of-type {\n",
       "        vertical-align: middle;\n",
       "    }\n",
       "\n",
       "    .dataframe tbody tr th {\n",
       "        vertical-align: top;\n",
       "    }\n",
       "\n",
       "    .dataframe thead th {\n",
       "        text-align: right;\n",
       "    }\n",
       "</style>\n",
       "<table border=\"1\" class=\"dataframe\">\n",
       "  <thead>\n",
       "    <tr style=\"text-align: right;\">\n",
       "      <th></th>\n",
       "      <th>draw</th>\n",
       "    </tr>\n",
       "  </thead>\n",
       "  <tbody>\n",
       "    <tr>\n",
       "      <th>grey</th>\n",
       "      <td>0.787249</td>\n",
       "    </tr>\n",
       "    <tr>\n",
       "      <th>red</th>\n",
       "      <td>0.139425</td>\n",
       "    </tr>\n",
       "    <tr>\n",
       "      <th>green</th>\n",
       "      <td>0.407114</td>\n",
       "    </tr>\n",
       "    <tr>\n",
       "      <th>blue</th>\n",
       "      <td>0.186959</td>\n",
       "    </tr>\n",
       "  </tbody>\n",
       "</table>\n",
       "</div>"
      ],
      "text/plain": [
       "           draw\n",
       "grey   0.787249\n",
       "red    0.139425\n",
       "green  0.407114\n",
       "blue   0.186959"
      ]
     },
     "metadata": {},
     "output_type": "display_data"
    },
    {
     "name": "stderr",
     "output_type": "stream",
     "text": [
      "No handles with labels found to put in legend.\n",
      "No handles with labels found to put in legend.\n",
      "No handles with labels found to put in legend.\n",
      "No handles with labels found to put in legend.\n"
     ]
    },
    {
     "data": {
      "text/html": [
       "<div>\n",
       "<style scoped>\n",
       "    .dataframe tbody tr th:only-of-type {\n",
       "        vertical-align: middle;\n",
       "    }\n",
       "\n",
       "    .dataframe tbody tr th {\n",
       "        vertical-align: top;\n",
       "    }\n",
       "\n",
       "    .dataframe thead th {\n",
       "        text-align: right;\n",
       "    }\n",
       "</style>\n",
       "<table border=\"1\" class=\"dataframe\">\n",
       "  <thead>\n",
       "    <tr style=\"text-align: right;\">\n",
       "      <th></th>\n",
       "      <th>clicks</th>\n",
       "      <th>misses</th>\n",
       "    </tr>\n",
       "  </thead>\n",
       "  <tbody>\n",
       "    <tr>\n",
       "      <th>grey</th>\n",
       "      <td>0</td>\n",
       "      <td>1</td>\n",
       "    </tr>\n",
       "    <tr>\n",
       "      <th>red</th>\n",
       "      <td>0</td>\n",
       "      <td>0</td>\n",
       "    </tr>\n",
       "    <tr>\n",
       "      <th>green</th>\n",
       "      <td>0</td>\n",
       "      <td>0</td>\n",
       "    </tr>\n",
       "    <tr>\n",
       "      <th>blue</th>\n",
       "      <td>0</td>\n",
       "      <td>1</td>\n",
       "    </tr>\n",
       "  </tbody>\n",
       "</table>\n",
       "</div>"
      ],
      "text/plain": [
       "       clicks  misses\n",
       "grey        0       1\n",
       "red         0       0\n",
       "green       0       0\n",
       "blue        0       1"
      ]
     },
     "metadata": {},
     "output_type": "display_data"
    },
    {
     "data": {
      "text/html": [
       "<div>\n",
       "<style scoped>\n",
       "    .dataframe tbody tr th:only-of-type {\n",
       "        vertical-align: middle;\n",
       "    }\n",
       "\n",
       "    .dataframe tbody tr th {\n",
       "        vertical-align: top;\n",
       "    }\n",
       "\n",
       "    .dataframe thead th {\n",
       "        text-align: right;\n",
       "    }\n",
       "</style>\n",
       "<table border=\"1\" class=\"dataframe\">\n",
       "  <thead>\n",
       "    <tr style=\"text-align: right;\">\n",
       "      <th></th>\n",
       "      <th>draw</th>\n",
       "    </tr>\n",
       "  </thead>\n",
       "  <tbody>\n",
       "    <tr>\n",
       "      <th>grey</th>\n",
       "      <td>0.572221</td>\n",
       "    </tr>\n",
       "    <tr>\n",
       "      <th>red</th>\n",
       "      <td>0.800611</td>\n",
       "    </tr>\n",
       "    <tr>\n",
       "      <th>green</th>\n",
       "      <td>0.305996</td>\n",
       "    </tr>\n",
       "    <tr>\n",
       "      <th>blue</th>\n",
       "      <td>0.365673</td>\n",
       "    </tr>\n",
       "  </tbody>\n",
       "</table>\n",
       "</div>"
      ],
      "text/plain": [
       "           draw\n",
       "grey   0.572221\n",
       "red    0.800611\n",
       "green  0.305996\n",
       "blue   0.365673"
      ]
     },
     "metadata": {},
     "output_type": "display_data"
    },
    {
     "name": "stderr",
     "output_type": "stream",
     "text": [
      "No handles with labels found to put in legend.\n",
      "No handles with labels found to put in legend.\n",
      "No handles with labels found to put in legend.\n",
      "No handles with labels found to put in legend.\n"
     ]
    },
    {
     "data": {
      "text/html": [
       "<div>\n",
       "<style scoped>\n",
       "    .dataframe tbody tr th:only-of-type {\n",
       "        vertical-align: middle;\n",
       "    }\n",
       "\n",
       "    .dataframe tbody tr th {\n",
       "        vertical-align: top;\n",
       "    }\n",
       "\n",
       "    .dataframe thead th {\n",
       "        text-align: right;\n",
       "    }\n",
       "</style>\n",
       "<table border=\"1\" class=\"dataframe\">\n",
       "  <thead>\n",
       "    <tr style=\"text-align: right;\">\n",
       "      <th></th>\n",
       "      <th>clicks</th>\n",
       "      <th>misses</th>\n",
       "    </tr>\n",
       "  </thead>\n",
       "  <tbody>\n",
       "    <tr>\n",
       "      <th>grey</th>\n",
       "      <td>0</td>\n",
       "      <td>2</td>\n",
       "    </tr>\n",
       "    <tr>\n",
       "      <th>red</th>\n",
       "      <td>1</td>\n",
       "      <td>3</td>\n",
       "    </tr>\n",
       "    <tr>\n",
       "      <th>green</th>\n",
       "      <td>0</td>\n",
       "      <td>2</td>\n",
       "    </tr>\n",
       "    <tr>\n",
       "      <th>blue</th>\n",
       "      <td>0</td>\n",
       "      <td>2</td>\n",
       "    </tr>\n",
       "  </tbody>\n",
       "</table>\n",
       "</div>"
      ],
      "text/plain": [
       "       clicks  misses\n",
       "grey        0       2\n",
       "red         1       3\n",
       "green       0       2\n",
       "blue        0       2"
      ]
     },
     "metadata": {},
     "output_type": "display_data"
    },
    {
     "data": {
      "text/html": [
       "<div>\n",
       "<style scoped>\n",
       "    .dataframe tbody tr th:only-of-type {\n",
       "        vertical-align: middle;\n",
       "    }\n",
       "\n",
       "    .dataframe tbody tr th {\n",
       "        vertical-align: top;\n",
       "    }\n",
       "\n",
       "    .dataframe thead th {\n",
       "        text-align: right;\n",
       "    }\n",
       "</style>\n",
       "<table border=\"1\" class=\"dataframe\">\n",
       "  <thead>\n",
       "    <tr style=\"text-align: right;\">\n",
       "      <th></th>\n",
       "      <th>draw</th>\n",
       "    </tr>\n",
       "  </thead>\n",
       "  <tbody>\n",
       "    <tr>\n",
       "      <th>grey</th>\n",
       "      <td>0.231553</td>\n",
       "    </tr>\n",
       "    <tr>\n",
       "      <th>red</th>\n",
       "      <td>0.260922</td>\n",
       "    </tr>\n",
       "    <tr>\n",
       "      <th>green</th>\n",
       "      <td>0.158978</td>\n",
       "    </tr>\n",
       "    <tr>\n",
       "      <th>blue</th>\n",
       "      <td>0.359500</td>\n",
       "    </tr>\n",
       "  </tbody>\n",
       "</table>\n",
       "</div>"
      ],
      "text/plain": [
       "           draw\n",
       "grey   0.231553\n",
       "red    0.260922\n",
       "green  0.158978\n",
       "blue   0.359500"
      ]
     },
     "metadata": {},
     "output_type": "display_data"
    },
    {
     "name": "stderr",
     "output_type": "stream",
     "text": [
      "No handles with labels found to put in legend.\n",
      "No handles with labels found to put in legend.\n",
      "No handles with labels found to put in legend.\n",
      "No handles with labels found to put in legend.\n"
     ]
    },
    {
     "data": {
      "text/html": [
       "<div>\n",
       "<style scoped>\n",
       "    .dataframe tbody tr th:only-of-type {\n",
       "        vertical-align: middle;\n",
       "    }\n",
       "\n",
       "    .dataframe tbody tr th {\n",
       "        vertical-align: top;\n",
       "    }\n",
       "\n",
       "    .dataframe thead th {\n",
       "        text-align: right;\n",
       "    }\n",
       "</style>\n",
       "<table border=\"1\" class=\"dataframe\">\n",
       "  <thead>\n",
       "    <tr style=\"text-align: right;\">\n",
       "      <th></th>\n",
       "      <th>clicks</th>\n",
       "      <th>misses</th>\n",
       "    </tr>\n",
       "  </thead>\n",
       "  <tbody>\n",
       "    <tr>\n",
       "      <th>grey</th>\n",
       "      <td>0</td>\n",
       "      <td>16</td>\n",
       "    </tr>\n",
       "    <tr>\n",
       "      <th>red</th>\n",
       "      <td>1</td>\n",
       "      <td>17</td>\n",
       "    </tr>\n",
       "    <tr>\n",
       "      <th>green</th>\n",
       "      <td>14</td>\n",
       "      <td>36</td>\n",
       "    </tr>\n",
       "    <tr>\n",
       "      <th>blue</th>\n",
       "      <td>1</td>\n",
       "      <td>15</td>\n",
       "    </tr>\n",
       "  </tbody>\n",
       "</table>\n",
       "</div>"
      ],
      "text/plain": [
       "       clicks  misses\n",
       "grey        0      16\n",
       "red         1      17\n",
       "green      14      36\n",
       "blue        1      15"
      ]
     },
     "metadata": {},
     "output_type": "display_data"
    },
    {
     "data": {
      "text/html": [
       "<div>\n",
       "<style scoped>\n",
       "    .dataframe tbody tr th:only-of-type {\n",
       "        vertical-align: middle;\n",
       "    }\n",
       "\n",
       "    .dataframe tbody tr th {\n",
       "        vertical-align: top;\n",
       "    }\n",
       "\n",
       "    .dataframe thead th {\n",
       "        text-align: right;\n",
       "    }\n",
       "</style>\n",
       "<table border=\"1\" class=\"dataframe\">\n",
       "  <thead>\n",
       "    <tr style=\"text-align: right;\">\n",
       "      <th></th>\n",
       "      <th>draw</th>\n",
       "    </tr>\n",
       "  </thead>\n",
       "  <tbody>\n",
       "    <tr>\n",
       "      <th>grey</th>\n",
       "      <td>0.053615</td>\n",
       "    </tr>\n",
       "    <tr>\n",
       "      <th>red</th>\n",
       "      <td>0.084655</td>\n",
       "    </tr>\n",
       "    <tr>\n",
       "      <th>green</th>\n",
       "      <td>0.241520</td>\n",
       "    </tr>\n",
       "    <tr>\n",
       "      <th>blue</th>\n",
       "      <td>0.040748</td>\n",
       "    </tr>\n",
       "  </tbody>\n",
       "</table>\n",
       "</div>"
      ],
      "text/plain": [
       "           draw\n",
       "grey   0.053615\n",
       "red    0.084655\n",
       "green  0.241520\n",
       "blue   0.040748"
      ]
     },
     "metadata": {},
     "output_type": "display_data"
    },
    {
     "name": "stderr",
     "output_type": "stream",
     "text": [
      "No handles with labels found to put in legend.\n",
      "No handles with labels found to put in legend.\n",
      "No handles with labels found to put in legend.\n",
      "No handles with labels found to put in legend.\n"
     ]
    },
    {
     "data": {
      "text/html": [
       "<div>\n",
       "<style scoped>\n",
       "    .dataframe tbody tr th:only-of-type {\n",
       "        vertical-align: middle;\n",
       "    }\n",
       "\n",
       "    .dataframe tbody tr th {\n",
       "        vertical-align: top;\n",
       "    }\n",
       "\n",
       "    .dataframe thead th {\n",
       "        text-align: right;\n",
       "    }\n",
       "</style>\n",
       "<table border=\"1\" class=\"dataframe\">\n",
       "  <thead>\n",
       "    <tr style=\"text-align: right;\">\n",
       "      <th></th>\n",
       "      <th>clicks</th>\n",
       "      <th>misses</th>\n",
       "    </tr>\n",
       "  </thead>\n",
       "  <tbody>\n",
       "    <tr>\n",
       "      <th>grey</th>\n",
       "      <td>0</td>\n",
       "      <td>26</td>\n",
       "    </tr>\n",
       "    <tr>\n",
       "      <th>red</th>\n",
       "      <td>16</td>\n",
       "      <td>125</td>\n",
       "    </tr>\n",
       "    <tr>\n",
       "      <th>green</th>\n",
       "      <td>95</td>\n",
       "      <td>483</td>\n",
       "    </tr>\n",
       "    <tr>\n",
       "      <th>blue</th>\n",
       "      <td>42</td>\n",
       "      <td>212</td>\n",
       "    </tr>\n",
       "  </tbody>\n",
       "</table>\n",
       "</div>"
      ],
      "text/plain": [
       "       clicks  misses\n",
       "grey        0      26\n",
       "red        16     125\n",
       "green      95     483\n",
       "blue       42     212"
      ]
     },
     "metadata": {},
     "output_type": "display_data"
    },
    {
     "data": {
      "text/html": [
       "<div>\n",
       "<style scoped>\n",
       "    .dataframe tbody tr th:only-of-type {\n",
       "        vertical-align: middle;\n",
       "    }\n",
       "\n",
       "    .dataframe tbody tr th {\n",
       "        vertical-align: top;\n",
       "    }\n",
       "\n",
       "    .dataframe thead th {\n",
       "        text-align: right;\n",
       "    }\n",
       "</style>\n",
       "<table border=\"1\" class=\"dataframe\">\n",
       "  <thead>\n",
       "    <tr style=\"text-align: right;\">\n",
       "      <th></th>\n",
       "      <th>draw</th>\n",
       "    </tr>\n",
       "  </thead>\n",
       "  <tbody>\n",
       "    <tr>\n",
       "      <th>grey</th>\n",
       "      <td>0.038470</td>\n",
       "    </tr>\n",
       "    <tr>\n",
       "      <th>red</th>\n",
       "      <td>0.117135</td>\n",
       "    </tr>\n",
       "    <tr>\n",
       "      <th>green</th>\n",
       "      <td>0.165618</td>\n",
       "    </tr>\n",
       "    <tr>\n",
       "      <th>blue</th>\n",
       "      <td>0.152715</td>\n",
       "    </tr>\n",
       "  </tbody>\n",
       "</table>\n",
       "</div>"
      ],
      "text/plain": [
       "           draw\n",
       "grey   0.038470\n",
       "red    0.117135\n",
       "green  0.165618\n",
       "blue   0.152715"
      ]
     },
     "metadata": {},
     "output_type": "display_data"
    },
    {
     "name": "stderr",
     "output_type": "stream",
     "text": [
      "No handles with labels found to put in legend.\n",
      "No handles with labels found to put in legend.\n",
      "No handles with labels found to put in legend.\n",
      "No handles with labels found to put in legend.\n"
     ]
    },
    {
     "data": {
      "image/png": "[encoded data removed]",
      "text/plain": [
       "<Figure size 216x288 with 4 Axes>"
      ]
     },
     "metadata": {
      "needs_background": "light"
     },
     "output_type": "display_data"
    },
    {
     "data": {
      "image/png": "[encoded data removed]",
      "text/plain": [
       "<Figure size 216x288 with 4 Axes>"
      ]
     },
     "metadata": {
      "needs_background": "light"
     },
     "output_type": "display_data"
    },
    {
     "data": {
      "image/png": "[encoded data removed]",
      "text/plain": [
       "<Figure size 216x288 with 4 Axes>"
      ]
     },
     "metadata": {
      "needs_background": "light"
     },
     "output_type": "display_data"
    },
    {
     "data": {
      "image/png": "[encoded data removed]",
      "text/plain": [
       "<Figure size 216x288 with 4 Axes>"
      ]
     },
     "metadata": {
      "needs_background": "light"
     },
     "output_type": "display_data"
    },
    {
     "data": {
      "image/png": "[encoded data removed]",
      "text/plain": [
       "<Figure size 216x288 with 4 Axes>"
      ]
     },
     "metadata": {
      "needs_background": "light"
     },
     "output_type": "display_data"
    },
    {
     "data": {
      "image/png": "[encoded data removed]",
      "text/plain": [
       "<Figure size 216x288 with 4 Axes>"
      ]
     },
     "metadata": {
      "needs_background": "light"
     },
     "output_type": "display_data"
    }
   ],
   "source": [
    "x = np.linspace(0,1,1000)\n",
    "\n",
    "for k in [0, 1, 2, 10, 100, 999]:\n",
    "    \n",
    "  display(counts_hist[k])\n",
    "  display(random_numbers_hist[k].to_frame(name=\"draw\"))\n",
    "\n",
    "  fig, ax = plt.subplots(4, 1, figsize=(3,4), sharey=True)\n",
    "  plt.subplots_adjust(hspace=.1)\n",
    "  \n",
    "  pdf_max = 2\n",
    "    \n",
    "  ax[0].set_title(f\"after {k} iteration{'' if k == 1 else 's'}\")\n",
    "  \n",
    "  for i, variant in enumerate(variants):\n",
    "    clicks, misses = counts_hist[k].loc[variant, :]\n",
    "    clicks, misses = (clicks, misses) if min(clicks, misses) > 0 else (clicks+1, misses+1)\n",
    "    pdf = stats.beta.pdf(x=x, a=clicks, b=misses)\n",
    "    pdf_max = max(pdf_max, np.max(pdf))\n",
    "    ax[i].plot(x, pdf, lw=2, color=variant)\n",
    "    ax[i].set_yticks([])\n",
    "    ax[i].set_xticks([])\n",
    "    ax[i].set_xlim(0, 1)\n",
    "    ax[i].legend(title=f\"beta({clicks},{misses})\", loc=\"upper left\", bbox_to_anchor=(1, 1.1))\n",
    "      \n",
    "  for i, variant in enumerate(variants):\n",
    "    clicks, misses = counts_hist[k].loc[variant, :]\n",
    "    clicks, misses = (clicks, misses) if min(clicks, misses) > 0 else (clicks+1, misses+1)\n",
    "    ax[i].vlines(x=clicks/(clicks+misses), ymin=0, ymax=pdf_max, ls=\"--\", color=variant)\n",
    "      \n",
    "  ax[i].set_xticks(np.linspace(0,1,11))\n",
    "  ax[i].set_xticklabels([\"0\"]+[str(x).lstrip(\"0\") for x in np.round(np.linspace(.1,.9,9),2)]+[\"1\"])\n",
    "  fig.savefig(fname=f\"after_{k}_iter.png\", bbox_inches=\"tight\", dpi=200)"
   ]
  },
  {
   "cell_type": "code",
   "execution_count": 12,
   "metadata": {},
   "outputs": [],
   "source": [
    "mean_hist = pd.DataFrame(\n",
    "  [counts.apply(lambda row: beta_mean(clicks=row[\"clicks\"], misses=row[\"misses\"]), axis=1) for counts in counts_hist])\n",
    "std_hist = pd.DataFrame(\n",
    "  [counts.apply(lambda row: beta_std(clicks=row[\"clicks\"], misses=row[\"misses\"]), axis=1) for counts in counts_hist])"
   ]
  },
  {
   "cell_type": "code",
   "execution_count": 13,
   "metadata": {},
   "outputs": [],
   "source": [
    "n_iter = 400\n",
    "\n",
    "xlim = (-.025, .525)\n",
    "ylim = (-.015, .315)\n",
    "\n",
    "for i in range(n_iter):\n",
    "  i_str = str(i).zfill(3)\n",
    "  fig, ax = plt.subplots()\n",
    "  ax.set_axisbelow(True)\n",
    "  ax.set_title(f\"iteration {i_str}\")\n",
    "  ax.scatter(mean_hist.loc[i, \"grey\"], std_hist.loc[i, \"grey\"], color=\"grey\", marker=4, s=50)\n",
    "  ax.scatter(mean_hist.loc[i, \"red\"], std_hist.loc[i, \"red\"], color=\"red\", marker=5, s=50)\n",
    "  ax.scatter(mean_hist.loc[i, \"green\"], std_hist.loc[i, \"green\"], color=\"lime\", marker=6, s=50)\n",
    "  ax.scatter(mean_hist.loc[i, \"blue\"], std_hist.loc[i, \"blue\"], color=\"blue\", marker=7, s=50)\n",
    "  ax.set_xticks(np.round(np.linspace(0, .5, 11),2))\n",
    "  ax.set_xlim(xlim)\n",
    "  ax.set_ylim(ylim)\n",
    "  ax.set_xlabel(\"mean\")\n",
    "  ax.set_ylabel(\"std\")\n",
    "  ax.grid()\n",
    "  fig.savefig(fname=f\"img/img_{i_str}.png\", bbox_inches=\"tight\", dpi=200)\n",
    "  plt.close()"
   ]
  },
  {
   "cell_type": "code",
   "execution_count": 14,
   "metadata": {},
   "outputs": [
    {
     "data": {
      "text/html": [
       "<div>\n",
       "<style scoped>\n",
       "    .dataframe tbody tr th:only-of-type {\n",
       "        vertical-align: middle;\n",
       "    }\n",
       "\n",
       "    .dataframe tbody tr th {\n",
       "        vertical-align: top;\n",
       "    }\n",
       "\n",
       "    .dataframe thead th {\n",
       "        text-align: right;\n",
       "    }\n",
       "</style>\n",
       "<table border=\"1\" class=\"dataframe\">\n",
       "  <thead>\n",
       "    <tr style=\"text-align: right;\">\n",
       "      <th></th>\n",
       "      <th>clicks</th>\n",
       "      <th>misses</th>\n",
       "    </tr>\n",
       "  </thead>\n",
       "  <tbody>\n",
       "    <tr>\n",
       "      <th>grey</th>\n",
       "      <td>0</td>\n",
       "      <td>26</td>\n",
       "    </tr>\n",
       "    <tr>\n",
       "      <th>red</th>\n",
       "      <td>16</td>\n",
       "      <td>125</td>\n",
       "    </tr>\n",
       "    <tr>\n",
       "      <th>green</th>\n",
       "      <td>95</td>\n",
       "      <td>484</td>\n",
       "    </tr>\n",
       "    <tr>\n",
       "      <th>blue</th>\n",
       "      <td>42</td>\n",
       "      <td>212</td>\n",
       "    </tr>\n",
       "  </tbody>\n",
       "</table>\n",
       "</div>"
      ],
      "text/plain": [
       "       clicks  misses\n",
       "grey        0      26\n",
       "red        16     125\n",
       "green      95     484\n",
       "blue       42     212"
      ]
     },
     "execution_count": 14,
     "metadata": {},
     "output_type": "execute_result"
    }
   ],
   "source": [
    "counts"
   ]
  },
  {
   "cell_type": "code",
   "execution_count": 15,
   "metadata": {},
   "outputs": [],
   "source": [
    "counts_equal = pd.DataFrame({variant: {\n",
    "  \"clicks\": n_sample / len(variants) * ground_truth[variant], \n",
    "  \"misses\": n_sample / len(variants) * (1 - ground_truth[variant])} \n",
    "  for variant in variants}).T"
   ]
  },
  {
   "cell_type": "code",
   "execution_count": 16,
   "metadata": {},
   "outputs": [
    {
     "data": {
      "text/html": [
       "<div>\n",
       "<style scoped>\n",
       "    .dataframe tbody tr th:only-of-type {\n",
       "        vertical-align: middle;\n",
       "    }\n",
       "\n",
       "    .dataframe tbody tr th {\n",
       "        vertical-align: top;\n",
       "    }\n",
       "\n",
       "    .dataframe thead th {\n",
       "        text-align: right;\n",
       "    }\n",
       "</style>\n",
       "<table border=\"1\" class=\"dataframe\">\n",
       "  <thead>\n",
       "    <tr style=\"text-align: right;\">\n",
       "      <th></th>\n",
       "      <th>clicks</th>\n",
       "      <th>misses</th>\n",
       "    </tr>\n",
       "  </thead>\n",
       "  <tbody>\n",
       "    <tr>\n",
       "      <th>grey</th>\n",
       "      <td>22.5</td>\n",
       "      <td>227.5</td>\n",
       "    </tr>\n",
       "    <tr>\n",
       "      <th>red</th>\n",
       "      <td>27.5</td>\n",
       "      <td>222.5</td>\n",
       "    </tr>\n",
       "    <tr>\n",
       "      <th>green</th>\n",
       "      <td>40.0</td>\n",
       "      <td>210.0</td>\n",
       "    </tr>\n",
       "    <tr>\n",
       "      <th>blue</th>\n",
       "      <td>45.0</td>\n",
       "      <td>205.0</td>\n",
       "    </tr>\n",
       "  </tbody>\n",
       "</table>\n",
       "</div>"
      ],
      "text/plain": [
       "       clicks  misses\n",
       "grey     22.5   227.5\n",
       "red      27.5   222.5\n",
       "green    40.0   210.0\n",
       "blue     45.0   205.0"
      ]
     },
     "execution_count": 16,
     "metadata": {},
     "output_type": "execute_result"
    }
   ],
   "source": [
    "counts_equal"
   ]
  },
  {
   "cell_type": "code",
   "execution_count": 17,
   "metadata": {},
   "outputs": [
    {
     "data": {
      "text/plain": [
       "0.1333333333333333"
      ]
     },
     "execution_count": 17,
     "metadata": {},
     "output_type": "execute_result"
    }
   ],
   "source": [
    "counts[\"clicks\"].sum() / counts_equal[\"clicks\"].sum() - 1"
   ]
  }
 ],
 "metadata": {
  "kernelspec": {
   "display_name": "dev",
   "language": "python",
   "name": "dev"
  },
  "language_info": {
   "codemirror_mode": {
    "name": "ipython",
    "version": 3
   },
   "file_extension": ".py",
   "mimetype": "text/x-python",
   "name": "python",
   "nbconvert_exporter": "python",
   "pygments_lexer": "ipython3",
   "version": "3.6.10"
  }
 },
 "nbformat": 4,
 "nbformat_minor": 4
}
